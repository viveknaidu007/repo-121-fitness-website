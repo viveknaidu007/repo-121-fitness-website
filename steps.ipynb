{
 "cells": [
  {
   "cell_type": "code",
   "execution_count": null,
   "metadata": {},
   "outputs": [],
   "source": [
    "# now add the authapp in settings.py at installed_apps"
   ]
  },
  {
   "cell_type": "code",
   "execution_count": null,
   "metadata": {},
   "outputs": [],
   "source": [
    "#now e have to add this in urls.py:\n",
    "\n",
    "from django.urls import path ,include\n",
    "\n",
    "    path(\"\",include(\"authapp\"))"
   ]
  },
  {
   "cell_type": "code",
   "execution_count": null,
   "metadata": {},
   "outputs": [],
   "source": [
    "# now create a new file urls.py in authapp:"
   ]
  },
  {
   "cell_type": "code",
   "execution_count": null,
   "metadata": {},
   "outputs": [],
   "source": [
    "#now e ahve to tad in : authapp.urls.py:\n",
    "\n",
    "from django.urls import path\n",
    "from authapp import views\n",
    "\n",
    "\n",
    "urlpatterns = [\n",
    "    path('',views.Home,name=\"Home\")\n",
    "]\n"
   ]
  },
  {
   "cell_type": "code",
   "execution_count": null,
   "metadata": {},
   "outputs": [],
   "source": [
    "# now add this in : authapp.views :\n",
    "\n",
    "from django.shortcuts import render\n",
    "\n",
    "# Create your views here.\n",
    "\n",
    "def Home(request):\n",
    "    return render(request,\"index.html\")\n",
    "\n"
   ]
  },
  {
   "cell_type": "code",
   "execution_count": null,
   "metadata": {},
   "outputs": [],
   "source": [
    "#now create templates folder in project\n"
   ]
  },
  {
   "cell_type": "code",
   "execution_count": null,
   "metadata": {},
   "outputs": [],
   "source": [
    "# and add this templates name in settings.py at TEMPLATES :\n",
    "\n",
    "        \"DIRS\": [\"templates\"],\n",
    "\n",
    "\n"
   ]
  },
  {
   "cell_type": "code",
   "execution_count": null,
   "metadata": {},
   "outputs": [],
   "source": [
    "# go the the bootstarpmade.com for frontned templates"
   ]
  },
  {
   "cell_type": "code",
   "execution_count": null,
   "metadata": {},
   "outputs": [],
   "source": [
    "# now create stsatic folder in project"
   ]
  },
  {
   "cell_type": "code",
   "execution_count": null,
   "metadata": {},
   "outputs": [],
   "source": [
    "# now add this in nelow static urls in setings.py:\n",
    "\n",
    "STATICFILES_DIRS = [\n",
    "    os.path.join(BASE_DIR,'static')\n",
    "]"
   ]
  }
 ],
 "metadata": {
  "language_info": {
   "name": "python"
  }
 },
 "nbformat": 4,
 "nbformat_minor": 2
}
